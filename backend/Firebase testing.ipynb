{
 "cells": [
  {
   "cell_type": "code",
   "execution_count": 1,
   "metadata": {},
   "outputs": [],
   "source": [
    "import firebase_admin\n",
    "import google.cloud\n",
    "from firebase_admin import credentials, firestore"
   ]
  },
  {
   "cell_type": "code",
   "execution_count": 2,
   "metadata": {},
   "outputs": [],
   "source": [
    "import pytz\n",
    "from datetime import datetime, tzinfo, date\n",
    "from pprint import pprint as pp"
   ]
  },
  {
   "cell_type": "code",
   "execution_count": 3,
   "metadata": {},
   "outputs": [
    {
     "data": {
      "text/plain": [
       "<firebase_admin.App at 0x19493ef6a48>"
      ]
     },
     "execution_count": 3,
     "metadata": {},
     "output_type": "execute_result"
    }
   ],
   "source": [
    "cred = credentials.Certificate('mentor_connect_private.json')\n",
    "firebase_admin.initialize_app(cred)"
   ]
  },
  {
   "cell_type": "code",
   "execution_count": 4,
   "metadata": {},
   "outputs": [],
   "source": [
    "db = firestore.client()"
   ]
  },
  {
   "cell_type": "code",
   "execution_count": 71,
   "metadata": {},
   "outputs": [
    {
     "data": {
      "text/plain": [
       "<google.cloud.firestore_v1.collection.CollectionReference at 0x1c964b3a5c8>"
      ]
     },
     "execution_count": 71,
     "metadata": {},
     "output_type": "execute_result"
    }
   ],
   "source": [
    "u_ref = db.collection(u'users')\n",
    "u_ref"
   ]
  },
  {
   "cell_type": "code",
   "execution_count": 80,
   "metadata": {},
   "outputs": [
    {
     "data": {
      "text/plain": [
       "<generator object Query.stream at 0x000001C964905648>"
      ]
     },
     "execution_count": 80,
     "metadata": {},
     "output_type": "execute_result"
    }
   ],
   "source": [
    "users = u_ref.stream()\n",
    "users"
   ]
  },
  {
   "cell_type": "code",
   "execution_count": 81,
   "metadata": {},
   "outputs": [
    {
     "name": "stdout",
     "output_type": "stream",
     "text": [
      "100\n",
      "{'course': 'data structures', 'name': 'Santhiya'}\n",
      "101\n",
      "{'course': 'anatomy', 'name': 'Divya'}\n",
      "102\n",
      "{'course': None, 'name': 'Dilip'}\n"
     ]
    }
   ],
   "source": [
    "for r in users:\n",
    "    print(r.id)\n",
    "    user = r.to_dict()\n",
    "#     if 'Date' in user:\n",
    "#         user['Date'] = user['Date'].replace(tzinfo=pytz.timezone('US/Pacific'))\n",
    "    print(user)"
   ]
  },
  {
   "cell_type": "code",
   "execution_count": 61,
   "metadata": {},
   "outputs": [
    {
     "data": {
      "text/plain": [
       "(seconds: 1580560639\n",
       " nanos: 919147000,\n",
       " <google.cloud.firestore_v1.document.DocumentReference at 0x1c964bc6c08>)"
      ]
     },
     "execution_count": 61,
     "metadata": {},
     "output_type": "execute_result"
    }
   ],
   "source": [
    "u_ref.add({\n",
    "    'Name': 'Burhan3',\n",
    "    \"Course\": 'CS',\n",
    "    \"date_test\": datetime.now(pytz.timezone('US/Pacific'))\n",
    "})"
   ]
  },
  {
   "cell_type": "code",
   "execution_count": 23,
   "metadata": {
    "scrolled": false
   },
   "outputs": [
    {
     "name": "stdout",
     "output_type": "stream",
     "text": [
      "Help on method add in module google.cloud.firestore_v1.collection:\n",
      "\n",
      "add(document_data, document_id=None) method of google.cloud.firestore_v1.collection.CollectionReference instance\n",
      "    Create a document in the Firestore database with the provided data.\n",
      "    \n",
      "    Args:\n",
      "        document_data (dict): Property names and values to use for\n",
      "            creating the document.\n",
      "        document_id (Optional[str]): The document identifier within the\n",
      "            current collection. If not provided, an ID will be\n",
      "            automatically assigned by the server (the assigned ID will be\n",
      "            a random 20 character string composed of digits,\n",
      "            uppercase and lowercase letters).\n",
      "    \n",
      "    Returns:\n",
      "        Tuple[:class:`google.protobuf.timestamp_pb2.Timestamp`,                 :class:`~google.cloud.firestore_v1.document.DocumentReference`]:\n",
      "            Pair of\n",
      "    \n",
      "            * The ``update_time`` when the document was created/overwritten.\n",
      "            * A document reference for the created document.\n",
      "    \n",
      "    Raises:\n",
      "        ~google.cloud.exceptions.Conflict: If ``document_id`` is provided\n",
      "            and the document already exists.\n",
      "\n"
     ]
    }
   ],
   "source": [
    "help(u_ref.add)"
   ]
  },
  {
   "cell_type": "code",
   "execution_count": 105,
   "metadata": {},
   "outputs": [
    {
     "name": "stdout",
     "output_type": "stream",
     "text": [
      "Help on method collections in module google.cloud.firestore_v1.client:\n",
      "\n",
      "collections() method of google.cloud.firestore_v1.client.Client instance\n",
      "    List top-level collections of the client's database.\n",
      "    \n",
      "    Returns:\n",
      "        Sequence[:class:`~google.cloud.firestore_v1.collection.CollectionReference`]:\n",
      "            iterator of subcollections of the current document.\n",
      "\n"
     ]
    }
   ],
   "source": [
    "help(db.collections)\n",
    "x = db.collections()"
   ]
  },
  {
   "cell_type": "code",
   "execution_count": 148,
   "metadata": {
    "scrolled": false
   },
   "outputs": [
    {
     "name": "stdout",
     "output_type": "stream",
     "text": [
      "Help on DatetimeWithNanoseconds in module google.api_core.datetime_helpers object:\n",
      "\n",
      "class DatetimeWithNanoseconds(datetime.datetime)\n",
      " |  DatetimeWithNanoseconds(*args, **kw)\n",
      " |  \n",
      " |  Track nanosecond in addition to normal datetime attrs.\n",
      " |  \n",
      " |  Nanosecond can be passed only as a keyword argument.\n",
      " |  \n",
      " |  Method resolution order:\n",
      " |      DatetimeWithNanoseconds\n",
      " |      datetime.datetime\n",
      " |      datetime.date\n",
      " |      builtins.object\n",
      " |  \n",
      " |  Methods defined here:\n",
      " |  \n",
      " |  rfc3339(self)\n",
      " |      Return an RFC3339-compliant timestamp.\n",
      " |      \n",
      " |      Returns:\n",
      " |          (str): Timestamp string according to RFC3339 spec.\n",
      " |  \n",
      " |  timestamp_pb(self)\n",
      " |      Return a timestamp message.\n",
      " |      \n",
      " |      Returns:\n",
      " |          (:class:`~google.protobuf.timestamp_pb2.Timestamp`): Timestamp message\n",
      " |  \n",
      " |  ----------------------------------------------------------------------\n",
      " |  Class methods defined here:\n",
      " |  \n",
      " |  from_rfc3339(stamp) from builtins.type\n",
      " |      Parse RFC3339-compliant timestamp, preserving nanoseconds.\n",
      " |      \n",
      " |      Args:\n",
      " |          stamp (str): RFC3339 stamp, with up to nanosecond precision\n",
      " |      \n",
      " |      Returns:\n",
      " |          :class:`DatetimeWithNanoseconds`:\n",
      " |              an instance matching the timestamp string\n",
      " |      \n",
      " |      Raises:\n",
      " |          ValueError: if `stamp` does not match the expected format\n",
      " |  \n",
      " |  from_timestamp_pb(stamp) from builtins.type\n",
      " |      Parse RFC3339-compliant timestamp, preserving nanoseconds.\n",
      " |      \n",
      " |      Args:\n",
      " |          stamp (:class:`~google.protobuf.timestamp_pb2.Timestamp`): timestamp message\n",
      " |      \n",
      " |      Returns:\n",
      " |          :class:`DatetimeWithNanoseconds`:\n",
      " |              an instance matching the timestamp message\n",
      " |  \n",
      " |  ----------------------------------------------------------------------\n",
      " |  Static methods defined here:\n",
      " |  \n",
      " |  __new__(cls, *args, **kw)\n",
      " |      Create and return a new object.  See help(type) for accurate signature.\n",
      " |  \n",
      " |  ----------------------------------------------------------------------\n",
      " |  Data descriptors defined here:\n",
      " |  \n",
      " |  nanosecond\n",
      " |      Read-only: nanosecond precision.\n",
      " |  \n",
      " |  ----------------------------------------------------------------------\n",
      " |  Methods inherited from datetime.datetime:\n",
      " |  \n",
      " |  __add__(self, value, /)\n",
      " |      Return self+value.\n",
      " |  \n",
      " |  __eq__(self, value, /)\n",
      " |      Return self==value.\n",
      " |  \n",
      " |  __ge__(self, value, /)\n",
      " |      Return self>=value.\n",
      " |  \n",
      " |  __getattribute__(self, name, /)\n",
      " |      Return getattr(self, name).\n",
      " |  \n",
      " |  __gt__(self, value, /)\n",
      " |      Return self>value.\n",
      " |  \n",
      " |  __hash__(self, /)\n",
      " |      Return hash(self).\n",
      " |  \n",
      " |  __le__(self, value, /)\n",
      " |      Return self<=value.\n",
      " |  \n",
      " |  __lt__(self, value, /)\n",
      " |      Return self<value.\n",
      " |  \n",
      " |  __ne__(self, value, /)\n",
      " |      Return self!=value.\n",
      " |  \n",
      " |  __radd__(self, value, /)\n",
      " |      Return value+self.\n",
      " |  \n",
      " |  __reduce__(...)\n",
      " |      __reduce__() -> (cls, state)\n",
      " |  \n",
      " |  __reduce_ex__(...)\n",
      " |      __reduce_ex__(proto) -> (cls, state)\n",
      " |  \n",
      " |  __repr__(self, /)\n",
      " |      Return repr(self).\n",
      " |  \n",
      " |  __rsub__(self, value, /)\n",
      " |      Return value-self.\n",
      " |  \n",
      " |  __str__(self, /)\n",
      " |      Return str(self).\n",
      " |  \n",
      " |  __sub__(self, value, /)\n",
      " |      Return self-value.\n",
      " |  \n",
      " |  astimezone(...)\n",
      " |      tz -> convert to local time in new timezone tz\n",
      " |  \n",
      " |  ctime(...)\n",
      " |      Return ctime() style string.\n",
      " |  \n",
      " |  date(...)\n",
      " |      Return date object with same year, month and day.\n",
      " |  \n",
      " |  dst(...)\n",
      " |      Return self.tzinfo.dst(self).\n",
      " |  \n",
      " |  isoformat(...)\n",
      " |      [sep] -> string in ISO 8601 format, YYYY-MM-DDT[HH[:MM[:SS[.mmm[uuu]]]]][+HH:MM].\n",
      " |      sep is used to separate the year from the time, and defaults to 'T'.\n",
      " |      timespec specifies what components of the time to include (allowed values are 'auto', 'hours', 'minutes', 'seconds', 'milliseconds', and 'microseconds').\n",
      " |  \n",
      " |  replace(...)\n",
      " |      Return datetime with new specified fields.\n",
      " |  \n",
      " |  time(...)\n",
      " |      Return time object with same time but with tzinfo=None.\n",
      " |  \n",
      " |  timestamp(...)\n",
      " |      Return POSIX timestamp as float.\n",
      " |  \n",
      " |  timetuple(...)\n",
      " |      Return time tuple, compatible with time.localtime().\n",
      " |  \n",
      " |  timetz(...)\n",
      " |      Return time object with same time and tzinfo.\n",
      " |  \n",
      " |  tzname(...)\n",
      " |      Return self.tzinfo.tzname(self).\n",
      " |  \n",
      " |  utcoffset(...)\n",
      " |      Return self.tzinfo.utcoffset(self).\n",
      " |  \n",
      " |  utctimetuple(...)\n",
      " |      Return UTC time tuple, compatible with time.localtime().\n",
      " |  \n",
      " |  ----------------------------------------------------------------------\n",
      " |  Class methods inherited from datetime.datetime:\n",
      " |  \n",
      " |  combine(...) from builtins.type\n",
      " |      date, time -> datetime with same date and time fields\n",
      " |  \n",
      " |  fromisoformat(...) from builtins.type\n",
      " |      string -> datetime from datetime.isoformat() output\n",
      " |  \n",
      " |  fromtimestamp(...) from builtins.type\n",
      " |      timestamp[, tz] -> tz's local time from POSIX timestamp.\n",
      " |  \n",
      " |  now(tz=None) from builtins.type\n",
      " |      Returns new datetime object representing current time local to tz.\n",
      " |      \n",
      " |        tz\n",
      " |          Timezone object.\n",
      " |      \n",
      " |      If no tz is specified, uses local timezone.\n",
      " |  \n",
      " |  strptime(...) from builtins.type\n",
      " |      string, format -> new datetime parsed from a string (like time.strptime()).\n",
      " |  \n",
      " |  utcfromtimestamp(...) from builtins.type\n",
      " |      Construct a naive UTC datetime from a POSIX timestamp.\n",
      " |  \n",
      " |  utcnow(...) from builtins.type\n",
      " |      Return a new datetime representing UTC day and time.\n",
      " |  \n",
      " |  ----------------------------------------------------------------------\n",
      " |  Data descriptors inherited from datetime.datetime:\n",
      " |  \n",
      " |  fold\n",
      " |  \n",
      " |  hour\n",
      " |  \n",
      " |  microsecond\n",
      " |  \n",
      " |  minute\n",
      " |  \n",
      " |  second\n",
      " |  \n",
      " |  tzinfo\n",
      " |  \n",
      " |  ----------------------------------------------------------------------\n",
      " |  Data and other attributes inherited from datetime.datetime:\n",
      " |  \n",
      " |  max = datetime.datetime(9999, 12, 31, 23, 59, 59, 999999)\n",
      " |  \n",
      " |  min = datetime.datetime(1, 1, 1, 0, 0)\n",
      " |  \n",
      " |  resolution = datetime.timedelta(microseconds=1)\n",
      " |  \n",
      " |  ----------------------------------------------------------------------\n",
      " |  Methods inherited from datetime.date:\n",
      " |  \n",
      " |  __format__(...)\n",
      " |      Formats self with strftime.\n",
      " |  \n",
      " |  isocalendar(...)\n",
      " |      Return a 3-tuple containing ISO year, week number, and weekday.\n",
      " |  \n",
      " |  isoweekday(...)\n",
      " |      Return the day of the week represented by the date.\n",
      " |      Monday == 1 ... Sunday == 7\n",
      " |  \n",
      " |  strftime(...)\n",
      " |      format -> strftime() style string.\n",
      " |  \n",
      " |  toordinal(...)\n",
      " |      Return proleptic Gregorian ordinal.  January 1 of year 1 is day 1.\n",
      " |  \n",
      " |  weekday(...)\n",
      " |      Return the day of the week represented by the date.\n",
      " |      Monday == 0 ... Sunday == 6\n",
      " |  \n",
      " |  ----------------------------------------------------------------------\n",
      " |  Class methods inherited from datetime.date:\n",
      " |  \n",
      " |  fromordinal(...) from builtins.type\n",
      " |      int -> date corresponding to a proleptic Gregorian ordinal.\n",
      " |  \n",
      " |  today(...) from builtins.type\n",
      " |      Current date or datetime:  same as self.__class__.fromtimestamp(time.time()).\n",
      " |  \n",
      " |  ----------------------------------------------------------------------\n",
      " |  Data descriptors inherited from datetime.date:\n",
      " |  \n",
      " |  day\n",
      " |  \n",
      " |  month\n",
      " |  \n",
      " |  year\n",
      "\n"
     ]
    }
   ],
   "source": [
    "userID = '101'\n",
    "transactions = db.collection(u'transactions').where('tutor_id', '==', userID).stream()\n",
    "for t in transactions:\n",
    "    tdict = t.to_dict()\n",
    "    cdict = db.collection('courses').document(str(tdict['course_id'])).get().to_dict()\n",
    "    sdict = db.collection('subjects').document(str(cdict['subject_id'])).get().to_dict()\n",
    "    student_dict = db.collection('users').document(str(tdict['student_id'])).get().to_dict()\n",
    "    tutor_dict = db.collection('users').document(str(tdict['tutor_id'])).get().to_dict()\n",
    "    \n",
    "    help(tdict['appointment'])\n",
    "    break\n",
    "    tdict['appointment'] = tdict['appointment'].astimezone(pytz.timezone('US/Pacific')).isoformat()\n",
    "    cdict['subject'] = sdict\n",
    "    tdict['course'] = cdict\n",
    "    tdict['student'] = student_dict\n",
    "    tdict['tutor'] = tutor_dict\n",
    "    pp(tdict)\n"
   ]
  },
  {
   "cell_type": "code",
   "execution_count": 84,
   "metadata": {},
   "outputs": [
    {
     "data": {
      "text/plain": [
       "<generator object Query.stream at 0x000001C964A67A48>"
      ]
     },
     "execution_count": 84,
     "metadata": {},
     "output_type": "execute_result"
    }
   ],
   "source": [
    "users = u_ref.stream()\n",
    "users"
   ]
  },
  {
   "cell_type": "code",
   "execution_count": 85,
   "metadata": {},
   "outputs": [
    {
     "name": "stdout",
     "output_type": "stream",
     "text": [
      "201\n",
      "{'course_id': 1001, 'student_id': 102, 'tutor_id': 101, 'appointment': DatetimeWithNanoseconds(2020, 2, 1, 13, 5, tzinfo=<UTC>)}\n"
     ]
    }
   ],
   "source": [
    "for r in users:\n",
    "    print(r.id)\n",
    "    user = r.to_dict()\n",
    "#     if 'Date' in user:\n",
    "#         user['Date'] = user['Date'].replace(tzinfo=pytz.timezone('US/Pacific'))\n",
    "    print(user)"
   ]
  },
  {
   "cell_type": "code",
   "execution_count": 140,
   "metadata": {},
   "outputs": [
    {
     "data": {
      "text/plain": [
       "[{'course_id': 1001,\n",
       "  'student_id': 102,\n",
       "  'tutor_id': 101,\n",
       "  'appointment': '2020-02-01T05:05:00-08:00',\n",
       "  'tutor': {'name': 'Divya'}},\n",
       " {'course_id': 1002,\n",
       "  'student_id': 103,\n",
       "  'tutor_id': 100,\n",
       "  'appointment': '2020-02-06T12:30:00-08:00',\n",
       "  'tutor': {'name': 'Santhiya'}},\n",
       " {'course_id': 1001,\n",
       "  'student_id': 103,\n",
       "  'tutor_id': 101,\n",
       "  'appointment': '2020-02-24T12:12:00-08:00',\n",
       "  'tutor': {'name': 'Divya'}},\n",
       " {'course_id': 1001,\n",
       "  'student_id': 103,\n",
       "  'tutor_id': 100,\n",
       "  'appointment': '2020-02-12T13:45:00-08:00',\n",
       "  'tutor': {'name': 'Santhiya'}}]"
      ]
     },
     "execution_count": 140,
     "metadata": {},
     "output_type": "execute_result"
    }
   ],
   "source": [
    "transactions_iter = db.collection(u'transactions').stream()\n",
    "transactions = []\n",
    "tutor_set = set()\n",
    "for t in transactions_iter:\n",
    "    tdict = t.to_dict()\n",
    "    tdict['tutor'] = db.collection('users').document(str(tdict['tutor_id'])).get().to_dict()\n",
    "    tdict['appointment'] = tdict['appointment'].astimezone(pytz.timezone('US/Pacific')).isoformat()\n",
    "    transactions.append(tdict)\n",
    "    \n",
    "transactions"
   ]
  },
  {
   "cell_type": "code",
   "execution_count": 143,
   "metadata": {},
   "outputs": [],
   "source": [
    "tid = 'dw4G26wfWqoeAVdRgiEy'\n",
    "status = True\n",
    "\n",
    "trans_ref = db.collection('transactions')\n",
    "tdict = trans_ref.document(tid).get().to_dict()\n",
    "\n",
    "trans_ref.document(tid).set({\n",
    "    'status': 1 if status else 2\n",
    "}, merge=True)\n",
    "\n",
    "if not status:\n",
    "    trans_ref.add(tdict)"
   ]
  },
  {
   "cell_type": "code",
   "execution_count": 11,
   "metadata": {},
   "outputs": [
    {
     "name": "stdout",
     "output_type": "stream",
     "text": [
      "Help on generator object:\n",
      "\n",
      "stream = class generator(object)\n",
      " |  Methods defined here:\n",
      " |  \n",
      " |  __del__(...)\n",
      " |  \n",
      " |  __getattribute__(self, name, /)\n",
      " |      Return getattr(self, name).\n",
      " |  \n",
      " |  __iter__(self, /)\n",
      " |      Implement iter(self).\n",
      " |  \n",
      " |  __next__(self, /)\n",
      " |      Implement next(self).\n",
      " |  \n",
      " |  __repr__(self, /)\n",
      " |      Return repr(self).\n",
      " |  \n",
      " |  close(...)\n",
      " |      close() -> raise GeneratorExit inside generator.\n",
      " |  \n",
      " |  send(...)\n",
      " |      send(arg) -> send 'arg' into generator,\n",
      " |      return next yielded value or raise StopIteration.\n",
      " |  \n",
      " |  throw(...)\n",
      " |      throw(typ[,val[,tb]]) -> raise exception in generator,\n",
      " |      return next yielded value or raise StopIteration.\n",
      " |  \n",
      " |  ----------------------------------------------------------------------\n",
      " |  Data descriptors defined here:\n",
      " |  \n",
      " |  gi_code\n",
      " |  \n",
      " |  gi_frame\n",
      " |  \n",
      " |  gi_running\n",
      " |  \n",
      " |  gi_yieldfrom\n",
      " |      object being iterated by yield from, or None\n",
      "\n"
     ]
    }
   ],
   "source": [
    "user_iter = db.collection('users').where('username', '==', 'divya2000').stream()\n",
    "help(user_iter)"
   ]
  },
  {
   "cell_type": "code",
   "execution_count": 10,
   "metadata": {},
   "outputs": [
    {
     "name": "stdout",
     "output_type": "stream",
     "text": [
      "{'phone': '+19495617353', 'username': 'divya2000', 'name': 'Divya', 'pay': '$ 18/hr', 'bio': 'I have got a close to perfect score during my highschool in bio! Have experience in 1-1.'}\n"
     ]
    }
   ],
   "source": [
    "for u in user_iter:\n",
    "    print(u.to_dict())"
   ]
  },
  {
   "cell_type": "code",
   "execution_count": null,
   "metadata": {},
   "outputs": [],
   "source": []
  }
 ],
 "metadata": {
  "kernelspec": {
   "display_name": "Python 3",
   "language": "python",
   "name": "python3"
  },
  "language_info": {
   "codemirror_mode": {
    "name": "ipython",
    "version": 3
   },
   "file_extension": ".py",
   "mimetype": "text/x-python",
   "name": "python",
   "nbconvert_exporter": "python",
   "pygments_lexer": "ipython3",
   "version": "3.7.5"
  }
 },
 "nbformat": 4,
 "nbformat_minor": 2
}
